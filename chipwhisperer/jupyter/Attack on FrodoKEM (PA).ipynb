{
 "cells": [
  {
   "cell_type": "markdown",
   "id": "a3717249",
   "metadata": {},
   "source": [
    "## Attack on the CDT Gaussian sampling used in FrodoKEM"
   ]
  },
  {
   "cell_type": "markdown",
   "id": "7ee39584",
   "metadata": {},
   "source": [
    "The process of taking the measurement is described below using two target boards: the STM32F4 and the XMega board."
   ]
  },
  {
   "cell_type": "code",
   "execution_count": null,
   "id": "45f592b8",
   "metadata": {},
   "outputs": [],
   "source": [
    "SCOPETYPE = 'OPENADC'\n",
    "PLATFORM = 'CW308_STM32F4' #can be replaced by CWLITEXMEGA if an XMega board is used\n",
    "VERSION = 'HARDWARE'\n"
   ]
  },
  {
   "cell_type": "code",
   "execution_count": null,
   "id": "0863770a",
   "metadata": {},
   "outputs": [],
   "source": [
    "%run \"Setup_Scripts/Setup_Generic.ipynb\" "
   ]
  },
  {
   "cell_type": "code",
   "execution_count": null,
   "id": "64bcb305",
   "metadata": {
    "scrolled": true
   },
   "outputs": [],
   "source": [
    "%%bash -s \"$PLATFORM\" \"$SS_VER\"\n",
    "cd ../hardware/victims/firmware/FrodoKem\n",
    "make PLATFORM=$1 CRYPTO_TARGET=NONE SS_VER=$2\n",
    "# Ignore the warnings"
   ]
  },
  {
   "cell_type": "code",
   "execution_count": null,
   "id": "f664c42c",
   "metadata": {},
   "outputs": [],
   "source": [
    "scope.default_setup()"
   ]
  },
  {
   "cell_type": "code",
   "execution_count": null,
   "id": "6ea4aed5",
   "metadata": {},
   "outputs": [],
   "source": [
    "cw.program_target(scope, cw.programmers.STM32FProgrammer, \"../hardware/victims/firmware/FrodoKem/GaussianSampling-CW308_STM32F4.hex\")\n",
    "# in case of XMega use  \"cw.programmers.XMEGAProgrammer\" instead of \"cw.programmers.STM32FProgrammer\" and change the .hex file accordingly  "
   ]
  },
  {
   "cell_type": "code",
   "execution_count": null,
   "id": "05b7f243",
   "metadata": {},
   "outputs": [],
   "source": [
    "#test that the target board is responsive, it should send back a message 'hello'\n",
    "target.read()"
   ]
  },
  {
   "cell_type": "code",
   "execution_count": null,
   "id": "45e63ab1",
   "metadata": {},
   "outputs": [],
   "source": [
    "# Numbre of traces\n",
    "N = 50000\n",
    "# Numbre of samples per trace\n",
    "scope.adc.samples = 5000"
   ]
  },
  {
   "cell_type": "code",
   "execution_count": null,
   "id": "27893462",
   "metadata": {
    "scrolled": false
   },
   "outputs": [],
   "source": [
    "# Gathering   traces of the execution of the CDT sampler \n",
    " \n",
    "import matplotlib.pyplot as plt\n",
    "import os\n",
    "import numpy as np \n",
    "\n",
    "\n",
    "trace = np.zeros((N,scope.adc.samples))\n",
    "res_dec = np.zeros(N)\n",
    "\n",
    "for j in range(N):\n",
    "    scope.arm()\n",
    "    option = np.random.bytes(2) \n",
    "    target.simpleserial_write('p', option) \n",
    "\n",
    "    res = target.simpleserial_read('r',2, timeout=1000) \n",
    "    ret = scope.capture()\n",
    "    if ret:\n",
    "        print('Timeout happened during acquisition')\n",
    "    trace[j] = scope.get_last_trace()\n",
    "    res_dec[j] = twos_comp(res[0],8)"
   ]
  },
  {
   "cell_type": "code",
   "execution_count": null,
   "id": "e039e46d",
   "metadata": {},
   "outputs": [],
   "source": [
    "subtrace = np.zeros((N,750))\n",
    "\n",
    "for i in range(N):\n",
    "    #if res_dec[i] >  0 :\n",
    "    #    res_dec[i]  = res_dec[i]\n",
    "    #else:\n",
    "    #    res_dec[i]  = (-1)*res_dec[i]\n",
    "        \n",
    "    subtrace[i] = trace[i][0:750]"
   ]
  },
  {
   "cell_type": "code",
   "execution_count": null,
   "id": "745a9369",
   "metadata": {},
   "outputs": [],
   "source": [
    "# The first 750 samples corresponds to the sampling of one sample by using the CDT sampler\n",
    "# Difference between postive and negative sampling \n",
    "\n",
    "\n",
    "plt.figsize=(6,7)\n",
    "plt.gcf().set_size_inches(18, 5) \n",
    "plt.plot(trace[2][30:800], color = 'blue')  \n",
    "plt.plot(trace[4][30:800], color = 'red')  \n",
    "plt.show()\n",
    "res_dec[0:20]"
   ]
  },
  {
   "cell_type": "markdown",
   "id": "7f855e74",
   "metadata": {},
   "source": [
    "## Training the Machine-learning Classifiers"
   ]
  },
  {
   "cell_type": "code",
   "execution_count": null,
   "id": "045bf8ff",
   "metadata": {},
   "outputs": [],
   "source": [
    "#Similar can be done for Cortex 30 MhZ, and XMega\n",
    "from sklearn.model_selection import train_test_split\n",
    "\n",
    "X_train, X_test, y_train, y_test = train_test_split(subtrace, res_dec, test_size=0.2)\n",
    "\n",
    "from sklearn.neural_network import MLPClassifier \n",
    "\n",
    "Dec_clf = MLPClassifier(\n",
    "    random_state=42,\n",
    "    solver='adam', \n",
    "    learning_rate='adaptive',\n",
    "    max_iter=3000,\n",
    "        hidden_layer_sizes=[400],\n",
    "    batch_size=100,\n",
    "    early_stopping=True,\n",
    "    n_iter_no_change=100,\n",
    "    verbose=False, \n",
    ")\n",
    "Dec_clf.fit(X_train, y_train)\n",
    " \n"
   ]
  },
  {
   "cell_type": "code",
   "execution_count": null,
   "id": "a31ef2e5",
   "metadata": {},
   "outputs": [],
   "source": [
    "predictions =np.zeros(len(y_test))\n",
    "predictions = Dec_clf.predict(X_test)\n",
    "success = 0\n",
    "\n",
    "for i in range(len(y_test)):\n",
    "    if predictions[i] == y_test[i]: \n",
    "        success = success +1\n",
    "    #else:\n",
    "        #print(predictions[i], y_test[i])\n",
    " \n",
    "         \n",
    "print((success /len(y_test))*100)"
   ]
  },
  {
   "cell_type": "markdown",
   "id": "acf6c8d2",
   "metadata": {},
   "source": [
    "## Collecting the traces "
   ]
  },
  {
   "cell_type": "markdown",
   "id": "b5f9cd6b",
   "metadata": {},
   "source": [
    "### 1- Tracing the sampling of Sp"
   ]
  },
  {
   "cell_type": "code",
   "execution_count": null,
   "id": "cc5ab517",
   "metadata": {},
   "outputs": [],
   "source": [
    "#collect the traces of the sampling of S'\n",
    "#The input of the CDT sampling is stored in the file Sp.txt\n",
    "from fastapi import File\n",
    "import matplotlib.pyplot as plt\n",
    "import os\n",
    "import numpy as np \n",
    "\n",
    "#Security level 1\n",
    "Sp_size = 10#5120  #PARAMS_N*PARAMS_NBAR = 640 * 8\n",
    "\n",
    "attack_trace_Sp = np.zeros((Sp_size,scope.adc.samples))\n",
    "attack_res_dec_Sp = np.zeros(Sp_size)\n",
    "\n",
    "with open('Sp.txt','r') as f:\n",
    "    lines = f.readlines()\n",
    "list_of_values = lines[0].split(' ,')"
   ]
  },
  {
   "cell_type": "code",
   "execution_count": null,
   "id": "7899e8d8",
   "metadata": {},
   "outputs": [],
   "source": [
    "for j in range(Sp_size):\n",
    "    scope.arm()\n",
    "    option =  int(list_of_values[j]).to_bytes(2, 'little')\n",
    "    target.simpleserial_write('p', option) \n",
    "    res = target.simpleserial_read('r',2, timeout=1000) \n",
    "    ret = scope.capture()\n",
    "    if ret:\n",
    "        print('Timeout happened during acquisition')\n",
    "    attack_trace_Sp[j] = scope.get_last_trace()\n",
    "    if(twos_comp(res[0],8)<0):\n",
    "        attack_res_dec_Sp[j] = (-1)*((-1)*twos_comp(res[0],8))>>1\n",
    "    else:\n",
    "        attack_res_dec_Sp[j] = twos_comp(res[0]>>1,8)"
   ]
  },
  {
   "cell_type": "code",
   "execution_count": null,
   "id": "61e9d5a8",
   "metadata": {
    "scrolled": true
   },
   "outputs": [],
   "source": [
    "# Verify that the sampling is occuring correctly on the target board\n",
    "# Samples are written in file Spsamples.txt \n",
    "plt.figsize=(6,7)\n",
    "plt.gcf().set_size_inches(18, 5) \n",
    "plt.plot(attack_trace_Sp[2][30:800], color = 'blue')  \n",
    "plt.plot(attack_trace_Sp[4][30:800], color = 'red')  \n",
    "plt.show()\n",
    "attack_res_dec_Sp[0:20]\n"
   ]
  },
  {
   "cell_type": "markdown",
   "id": "ce6e72a9",
   "metadata": {},
   "source": [
    "### 2- Tracing the sampling of Epp"
   ]
  },
  {
   "cell_type": "code",
   "execution_count": null,
   "id": "3cbc42e4",
   "metadata": {},
   "outputs": [],
   "source": [
    "#collect the traces of the sampling of Epp\n",
    "#The input of the CDT sampling is stored in the file Epp.txt\n",
    "from fastapi import File\n",
    "import matplotlib.pyplot as plt\n",
    "import os\n",
    "import numpy as np \n",
    "\n",
    "#Security level 1\n",
    "Epp_size = 10 #5120  #PARAMS_N*PARAMS_NBAR = 640 * 8\n",
    "\n",
    "attack_trace_Epp = np.zeros((Epp_size,scope.adc.samples))\n",
    "attack_res_dec_Epp = np.zeros(Epp_size)\n",
    "\n",
    "with open('Epp.txt','r') as f:\n",
    "    lines = f.readlines()\n",
    "list_of_values = lines[0].split(' ,')\n"
   ]
  },
  {
   "cell_type": "code",
   "execution_count": null,
   "id": "d06ca109",
   "metadata": {},
   "outputs": [],
   "source": [
    "for j in range(Epp_size):\n",
    "    scope.arm()\n",
    "    option =  int(list_of_values[j]).to_bytes(2, 'little')\n",
    "    target.simpleserial_write('p', option) \n",
    "    res = target.simpleserial_read('r',2, timeout=1000) \n",
    "    ret = scope.capture()\n",
    "    if ret:\n",
    "        print('Timeout happened during acquisition')\n",
    "    attack_trace_Epp[j] = scope.get_last_trace()\n",
    "    if(twos_comp(res[0],8)<0):\n",
    "        attack_res_dec_Epp[j] = (-1)*((-1)*twos_comp(res[0],8))>>1\n",
    "    else:\n",
    "        attack_res_dec_Epp[j] = twos_comp(res[0]>>1,8)"
   ]
  },
  {
   "cell_type": "code",
   "execution_count": null,
   "id": "c0065749",
   "metadata": {},
   "outputs": [],
   "source": [
    "# Verify that the sampling is occuring correctly on the target board\n",
    "# Samples are written in file Spsamples.txt \n",
    "plt.figsize=(6,7)\n",
    "plt.gcf().set_size_inches(18, 5) \n",
    "plt.plot(attack_trace_Epp[2][30:800], color = 'blue')  \n",
    "plt.plot(attack_trace_Epp[4][30:800], color = 'red')  \n",
    "plt.show()\n",
    " "
   ]
  },
  {
   "cell_type": "markdown",
   "id": "3c0c313d",
   "metadata": {},
   "source": [
    "### Predicting the samples Sp and Epp uying the machine learning classifier"
   ]
  },
  {
   "cell_type": "code",
   "execution_count": null,
   "id": "1ae3ec1d",
   "metadata": {},
   "outputs": [],
   "source": [
    "# predict Sp\n",
    "Sp_predicted =np.zeros(Sp_size)\n",
    "Sp_predicted = Dec_clf.predict(attack_trace_Sp)\n",
    "\n",
    " "
   ]
  },
  {
   "cell_type": "code",
   "execution_count": null,
   "id": "92b63716",
   "metadata": {},
   "outputs": [],
   "source": [
    "# predict Epp\n",
    "Epp_predicted =np.zeros(Sp_size)\n",
    "Epp_predicted = Dec_clf.predict(attack_trace_Sp)\n",
    "\n",
    " \n",
    "\n",
    " \n"
   ]
  },
  {
   "cell_type": "code",
   "execution_count": null,
   "id": "82673951",
   "metadata": {},
   "outputs": [],
   "source": []
  }
 ],
 "metadata": {
  "kernelspec": {
   "display_name": "Python 3 (ipykernel)",
   "language": "python",
   "name": "python3"
  },
  "language_info": {
   "codemirror_mode": {
    "name": "ipython",
    "version": 3
   },
   "file_extension": ".py",
   "mimetype": "text/x-python",
   "name": "python",
   "nbconvert_exporter": "python",
   "pygments_lexer": "ipython3",
   "version": "3.10.6"
  }
 },
 "nbformat": 4,
 "nbformat_minor": 5
}
